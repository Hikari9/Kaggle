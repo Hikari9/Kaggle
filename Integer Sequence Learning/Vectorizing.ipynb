{
 "cells": [
  {
   "cell_type": "code",
   "execution_count": 1,
   "metadata": {
    "collapsed": false
   },
   "outputs": [
    {
     "data": {
      "text/plain": [
       "[1,\n",
       " 3,\n",
       " 13,\n",
       " 87,\n",
       " 1053,\n",
       " 28576,\n",
       " 2141733,\n",
       " 508147108,\n",
       " 402135275365,\n",
       " 1073376057490373,\n",
       " 9700385489355970183L,\n",
       " 298434346895322960005291L,\n",
       " 31479360095907908092817694945L,\n",
       " 11474377948948020660089085281068730L]"
      ]
     },
     "execution_count": 1,
     "metadata": {},
     "output_type": "execute_result"
    }
   ],
   "source": [
    "# collect training data\n",
    "from utils import get_training_data\n",
    "raw_training_data = get_training_data()\n",
    "training_data = [map(int, data.split(',')) for id, data in raw_training_data]\n",
    "training_data[0] # show example of first entry"
   ]
  },
  {
   "cell_type": "code",
   "execution_count": 135,
   "metadata": {
    "collapsed": false
   },
   "outputs": [],
   "source": [
    "# flatten training data in preparation for vectorization\n",
    "def flat(data_array):\n",
    "    index = 1\n",
    "    flat_array = []\n",
    "    for data in data_array:\n",
    "        flat_array.extend(data)\n",
    "        flat_array.append(-index)\n",
    "        index += 1\n",
    "    return flat_array"
   ]
  },
  {
   "cell_type": "code",
   "execution_count": 136,
   "metadata": {
    "collapsed": false
   },
   "outputs": [],
   "source": [
    "# compress data to remove negatives\n",
    "from utils import Compressor\n",
    "\n",
    "values = set()\n",
    "for data in training_data:\n",
    "    values.update(data)\n",
    "    \n",
    "compressor = Compressor(values)"
   ]
  },
  {
   "cell_type": "code",
   "execution_count": 178,
   "metadata": {
    "collapsed": true
   },
   "outputs": [],
   "source": [
    "# get flat training data for suffix arrray\n",
    "# note: sequence is reversed\n",
    "flat_training_data = flat([map(compressor.compress, data[::-1]) for data in training_data])"
   ]
  },
  {
   "cell_type": "code",
   "execution_count": 185,
   "metadata": {
    "collapsed": false
   },
   "outputs": [
    {
     "name": "stdout",
     "output_type": "stream",
     "text": [
      "CPU times: user 1min 5s, sys: 176 ms, total: 1min 5s\n",
      "Wall time: 1min 5s\n"
     ]
    }
   ],
   "source": [
    "%%time\n",
    "# vectorize reversed data using suffix array\n",
    "from progvar.strings.suffix import SuffixArray\n",
    "suffix_array = SuffixArray(flat_training_data)"
   ]
  },
  {
   "cell_type": "code",
   "execution_count": 186,
   "metadata": {
    "collapsed": false
   },
   "outputs": [],
   "source": [
    "# mark indices that are not last\n",
    "mark = [0] * len(suffix_array)\n",
    "for i in xrange(len(flat_training_data) - 1):\n",
    "    if flat_training_data[i] >= 0 and flat_training_data[i + 1] >= 0:\n",
    "        mark[suffix_array.position[i + 1]] = 1\n",
    "\n",
    "# accumulate sum for range query\n",
    "for i in xrange(1, len(mark)):\n",
    "    mark[i] += mark[i - 1]\n",
    "    \n",
    "def range_sum_query(a, b):\n",
    "    if b < a: return 0\n",
    "    else: return mark[b] - (mark[a - 1] if a >= 0 else 0)"
   ]
  },
  {
   "cell_type": "code",
   "execution_count": 240,
   "metadata": {
    "collapsed": false
   },
   "outputs": [],
   "source": [
    "# define a radix search function to narrow the range of predictions\n",
    "# returns a pair (L, R) indicating the the narrowest range of possible sequences\n",
    "def radix_search(sequence):\n",
    "    data = map(compressor.compress, sequence)[::-1] # reverse data\n",
    "    # cut of None's\n",
    "    for i in xrange(len(data)):\n",
    "        if data[i] is None:\n",
    "            data = data[:i]\n",
    "            break\n",
    "    if not data: return None\n",
    "    L, R = 0, len(suffix_array) - 1\n",
    "    for radix in xrange(len(data)):\n",
    "        # find the lower bound => L\n",
    "        l, r = L, R\n",
    "        while l < r:\n",
    "            m = ((l + r) >> 1)\n",
    "            ch = suffix_array.text[suffix_array[m] + radix]\n",
    "            if ch < data[radix]:\n",
    "                l = m + 1\n",
    "            else:\n",
    "                r = m\n",
    "        nL = l\n",
    "        # find the upper bound => R\n",
    "        l, r = nL, R\n",
    "        while l < r:\n",
    "            m = ((l + r) >> 1) + 1\n",
    "            ch = suffix_array.text[suffix_array[m] + radix]\n",
    "            if ch > data[radix]:\n",
    "                r = m - 1\n",
    "            else:\n",
    "                l = m\n",
    "        nR = l\n",
    "        if range_sum_query(nL, nR) == 0:\n",
    "            if radix == 0:\n",
    "                return None # not in training data\n",
    "            break\n",
    "        L, R = nL, nR\n",
    "    # prediction is between L and R\n",
    "    predictions = []\n",
    "    for i in xrange(L, R + 1):\n",
    "        if range_sum_query(i, i):\n",
    "            sai = suffix_array[i]\n",
    "            predictions.append(suffix_array.text[sai - 1])\n",
    "    return map(compressor.decompress, predictions)\n",
    "    # return map(compressor.decompress, predictions)"
   ]
  },
  {
   "cell_type": "code",
   "execution_count": 255,
   "metadata": {
    "collapsed": false,
    "scrolled": true
   },
   "outputs": [
    {
     "data": {
      "text/plain": [
       "[34]"
      ]
     },
     "execution_count": 255,
     "metadata": {},
     "output_type": "execute_result"
    }
   ],
   "source": [
    "# test: fibonacci\n",
    "from utils import mode\n",
    "mode(radix_search([8, 13, 21]))"
   ]
  },
  {
   "cell_type": "code",
   "execution_count": 256,
   "metadata": {
    "collapsed": false
   },
   "outputs": [],
   "source": [
    "# gather test data\n",
    "from utils import get_test_data\n",
    "raw_test_data = get_test_data()"
   ]
  },
  {
   "cell_type": "code",
   "execution_count": 259,
   "metadata": {
    "collapsed": false
   },
   "outputs": [
    {
     "data": {
      "text/plain": [
       "[1,\n",
       " 1,\n",
       " 5,\n",
       " 11,\n",
       " 35,\n",
       " 93,\n",
       " 269,\n",
       " 747,\n",
       " 2115,\n",
       " 5933,\n",
       " 16717,\n",
       " 47003,\n",
       " 132291,\n",
       " 372157,\n",
       " 1047181,\n",
       " 2946251,\n",
       " 8289731,\n",
       " 23323853,\n",
       " 65624397,\n",
       " 184640891,\n",
       " 519507267,\n",
       " 1461688413,\n",
       " 4112616845,\n",
       " 11571284395,\n",
       " 32557042499,\n",
       " 91602704493,\n",
       " 257733967693]"
      ]
     },
     "execution_count": 259,
     "metadata": {},
     "output_type": "execute_result"
    }
   ],
   "source": [
    "test_data = [map(int, data.split(',')) for id, data in raw_test_data[1:]]\n",
    "test_data[0]"
   ]
  },
  {
   "cell_type": "code",
   "execution_count": 295,
   "metadata": {
    "collapsed": false
   },
   "outputs": [],
   "source": [
    "# have a heuristic to recursively predict a sequence not in the training set\n",
    "def delta(array):\n",
    "    return [y - x for x, y in zip(array[:-1], array[1:])]\n",
    "\n",
    "def recursive_predict(array):\n",
    "    if len(array) == 0: return 0\n",
    "    rs = radix_search(array)\n",
    "    if rs is None: return array[-1] + recursive_predict(delta(array))\n",
    "    return rs[0]"
   ]
  },
  {
   "cell_type": "code",
   "execution_count": 296,
   "metadata": {
    "collapsed": false
   },
   "outputs": [
    {
     "name": "stdout",
     "output_type": "stream",
     "text": [
      "depth one: None\n",
      "depth recursive: 731271829377\n"
     ]
    }
   ],
   "source": [
    "# try first data\n",
    "print 'depth one:', radix_search(test_data[0])\n",
    "print 'depth recursive:', recursive_predict(test_data[0])"
   ]
  },
  {
   "cell_type": "code",
   "execution_count": 303,
   "metadata": {
    "collapsed": false
   },
   "outputs": [
    {
     "name": "stdout",
     "output_type": "stream",
     "text": [
      "[731271829377, 32, 427, 13, 1440, 6340257784102197, 103044825589401482985824L, 137188181530537831056059441L, 40478370666294985929991L, 11531]\n",
      "CPU times: user 1.06 s, sys: 4 ms, total: 1.07 s\n",
      "Wall time: 1.07 s\n"
     ]
    }
   ],
   "source": [
    "%%time\n",
    "# try 1000\n",
    "results = []\n",
    "for data in test_data[:1000]:\n",
    "    results.append(recursive_predict(data))\n",
    "print results[:10]"
   ]
  },
  {
   "cell_type": "code",
   "execution_count": 300,
   "metadata": {
    "collapsed": false
   },
   "outputs": [
    {
     "name": "stdout",
     "output_type": "stream",
     "text": [
      "CPU times: user 9.42 s, sys: 24 ms, total: 9.44 s\n",
      "Wall time: 9.42 s\n"
     ]
    }
   ],
   "source": [
    "%%time\n",
    "# try 10000\n",
    "results = []\n",
    "for data in test_data[:10000]:\n",
    "    results.append(recursive_predict(data))"
   ]
  },
  {
   "cell_type": "code",
   "execution_count": 304,
   "metadata": {
    "collapsed": false
   },
   "outputs": [
    {
     "name": "stdout",
     "output_type": "stream",
     "text": [
      "[None, [32], [427], [13], [1440], None, None, None, None, [11531]]\n",
      "CPU times: user 440 ms, sys: 0 ns, total: 440 ms\n",
      "Wall time: 439 ms\n"
     ]
    }
   ],
   "source": [
    "%%time\n",
    "# try 1000 non-recursive\n",
    "results = []\n",
    "for data in test_data[:1000]:\n",
    "    results.append(radix_search(data))\n",
    "print results[:10]"
   ]
  },
  {
   "cell_type": "code",
   "execution_count": 306,
   "metadata": {
    "collapsed": false
   },
   "outputs": [
    {
     "name": "stdout",
     "output_type": "stream",
     "text": [
      "Success: 0.584782685078\n",
      "CPU times: user 1min 7s, sys: 124 ms, total: 1min 7s\n",
      "Wall time: 1min 7s\n"
     ]
    }
   ],
   "source": [
    "%%time\n",
    "# count the percentage of accuracy of radix search\n",
    "ave = 0\n",
    "for data in test_data:\n",
    "    if radix_search(data):\n",
    "        ave += 1\n",
    "print 'Success:', 1.0 * ave / len(test_data)"
   ]
  },
  {
   "cell_type": "code",
   "execution_count": null,
   "metadata": {
    "collapsed": true
   },
   "outputs": [],
   "source": []
  }
 ],
 "metadata": {
  "kernelspec": {
   "display_name": "Python 2",
   "language": "python",
   "name": "python2"
  },
  "language_info": {
   "codemirror_mode": {
    "name": "ipython",
    "version": 2
   },
   "file_extension": ".py",
   "mimetype": "text/x-python",
   "name": "python",
   "nbconvert_exporter": "python",
   "pygments_lexer": "ipython2",
   "version": "2.7.11+"
  }
 },
 "nbformat": 4,
 "nbformat_minor": 0
}
